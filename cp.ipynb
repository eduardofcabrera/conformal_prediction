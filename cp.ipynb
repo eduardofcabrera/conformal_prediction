{
 "cells": [
  {
   "cell_type": "code",
   "execution_count": 1,
   "metadata": {},
   "outputs": [],
   "source": [
    "import random\n",
    "import math\n",
    "\n",
    "\n",
    "class BooleanExpressionsTask():\n",
    "\n",
    "    def __init__(\n",
    "        self,\n",
    "        seed: int = 42,\n",
    "        expression_lengths: tuple = tuple(range(1, 9)),\n",
    "        max_num_trials: int = 100,\n",
    "        batch_size: int = 100,\n",
    "        num_shots: int = 3,\n",
    "        verbose: bool = False,\n",
    "        constants: tuple = (\"True\", \"False\"),\n",
    "        binary_ops: tuple = (\"or\", \"and\"),\n",
    "        unary_ops: tuple = (\"not\",),\n",
    "        allow_parentheses: bool = True,\n",
    "    ):\n",
    "        random.seed(seed)\n",
    "\n",
    "        if not isinstance(expression_lengths, tuple):\n",
    "            expression_lengths = (expression_lengths,)\n",
    "\n",
    "        min_length, max_length = 1, 14\n",
    "        if any(i < min_length for i in expression_lengths):\n",
    "            raise ValueError(\n",
    "                f\"Expressions must be greater or equal to \"\n",
    "                f\"{min_length} in length, \"\n",
    "                f\"got {expression_lengths}.\"\n",
    "            )\n",
    "\n",
    "        if any(i > max_length for i in expression_lengths):\n",
    "            raise ValueError(\n",
    "                f\"Complexity is exponential in expression length, \"\n",
    "                f\"got {expression_lengths} with values more than {max_length}.\"\n",
    "            )\n",
    "\n",
    "        self.expression_lengths = expression_lengths\n",
    "\n",
    "        self.num_trials = max_num_trials\n",
    "        self.batch_size = batch_size\n",
    "        self.verbose = verbose\n",
    "        self.num_shots = num_shots\n",
    "\n",
    "        self._start = set(constants + unary_ops)\n",
    "        self._continue = set(binary_ops)\n",
    "        self._end = set(constants)\n",
    "\n",
    "        ops = binary_ops + unary_ops\n",
    "\n",
    "        self._next = {\"start\": self._start}\n",
    "\n",
    "        for c in ops:\n",
    "            self._next[c] = self._start\n",
    "\n",
    "        for c in constants:\n",
    "            self._next[c] = self._continue\n",
    "\n",
    "        if allow_parentheses:\n",
    "            self._start.update(\"(\")\n",
    "            self._end.update(\")\")\n",
    "            self._continue.update(\")\")\n",
    "\n",
    "            self._next.update({\"(\": self._start, \")\": self._continue})\n",
    "\n",
    "    def _is_valid(self, expression: tuple, open_parentheses: int) -> bool:\n",
    "        return open_parentheses == 0 and expression[-1] in self._end\n",
    "\n",
    "    def _yield_expression(\n",
    "        self, length: int, prefix: tuple = (\"start\",), open_parentheses: int = 0\n",
    "    ):\n",
    "        if length == 0:\n",
    "            prefix = prefix[1:]\n",
    "            if self._is_valid(prefix, open_parentheses):\n",
    "                yield prefix\n",
    "\n",
    "        else:\n",
    "            for t in self._next[prefix[-1]]:\n",
    "                op = open_parentheses\n",
    "                if t == \"(\":\n",
    "                    op += 1\n",
    "                elif t == \")\":\n",
    "                    if op == 0:\n",
    "                        continue\n",
    "                    op -= 1\n",
    "                yield from self._yield_expression(length - 1, prefix + (t,), op)\n",
    "\n",
    "    @classmethod\n",
    "    def _eval_expression(cls, tokens):\n",
    "        prompt = \" \".join(tokens)\n",
    "        expected_result = eval(prompt)\n",
    "        prompt = f\"{prompt} is \"\n",
    "        return expected_result, prompt\n",
    "\n",
    "    def evaluate_model(self, max_examples=None, random_seed=None):\n",
    "\n",
    "        if random_seed:\n",
    "            random.seed(random_seed)\n",
    "        if max_examples:\n",
    "            self.num_trials = max_examples\n",
    "\n",
    "        score_data = []\n",
    "\n",
    "        for length in self.expression_lengths:\n",
    "\n",
    "            expressions = list(self._yield_expression(length))\n",
    "            if self.verbose:\n",
    "                print(\n",
    "                    f\"Generated {len(expressions)} expressions \" f\"of length {length}.\"\n",
    "                )\n",
    "\n",
    "            expressions = sorted(expressions)\n",
    "            random.shuffle(expressions)\n",
    "\n",
    "            inputs = expressions[: self.num_trials * (self.num_shots + 1)]\n",
    "            n_inputs = len(inputs)\n",
    "            num_trials = min(self.num_trials, n_inputs)\n",
    "            num_shots = n_inputs // num_trials - 1\n",
    "\n",
    "            if self.verbose:\n",
    "                print(\n",
    "                    f\"Selected total {n_inputs} expressions for prompts and \"\n",
    "                    f\"context. Effective number of shots is {num_shots}. \"\n",
    "                    f\"Effective number of trials is {num_trials}.\"\n",
    "                )\n",
    "\n",
    "            text_inputs, answers = [], []\n",
    "\n",
    "            for i in range(0, num_trials * (num_shots + 1), num_shots + 1):\n",
    "                context = \"\"\n",
    "                for b in range(i + 1, i + 1 + num_shots):\n",
    "                    answer, text_input = self._eval_expression(inputs[b])\n",
    "                    context += text_input + str(answer) + \" . \"\n",
    "\n",
    "                answer, text_input = self._eval_expression(inputs[i])\n",
    "                text_inputs += [context + text_input]\n",
    "                answers += [answer]\n",
    "\n",
    "        return text_inputs, answers"
   ]
  },
  {
   "cell_type": "code",
   "execution_count": 2,
   "metadata": {},
   "outputs": [],
   "source": [
    "task = BooleanExpressionsTask(verbose=True, expression_lengths= tuple(range(1, 12)), num_shots=0)"
   ]
  },
  {
   "cell_type": "code",
   "execution_count": 15,
   "metadata": {},
   "outputs": [
    {
     "name": "stdout",
     "output_type": "stream",
     "text": [
      "Generated 2 expressions of length 1.\n",
      "Selected total 2 expressions for prompts and context. Effective number of shots is 0. Effective number of trials is 2.\n",
      "Generated 2 expressions of length 2.\n",
      "Selected total 2 expressions for prompts and context. Effective number of shots is 0. Effective number of trials is 2.\n",
      "Generated 12 expressions of length 3.\n",
      "Selected total 12 expressions for prompts and context. Effective number of shots is 0. Effective number of trials is 12.\n",
      "Generated 22 expressions of length 4.\n",
      "Selected total 22 expressions for prompts and context. Effective number of shots is 0. Effective number of trials is 22.\n",
      "Generated 90 expressions of length 5.\n",
      "Selected total 90 expressions for prompts and context. Effective number of shots is 0. Effective number of trials is 90.\n",
      "Generated 216 expressions of length 6.\n",
      "Selected total 216 expressions for prompts and context. Effective number of shots is 0. Effective number of trials is 216.\n",
      "Generated 770 expressions of length 7.\n",
      "Selected total 770 expressions for prompts and context. Effective number of shots is 0. Effective number of trials is 770.\n",
      "Generated 2122 expressions of length 8.\n",
      "Selected total 2001 expressions for prompts and context. Effective number of shots is 0. Effective number of trials is 2001.\n",
      "Generated 7156 expressions of length 9.\n",
      "Selected total 2001 expressions for prompts and context. Effective number of shots is 0. Effective number of trials is 2001.\n",
      "Generated 21270 expressions of length 10.\n",
      "Selected total 2001 expressions for prompts and context. Effective number of shots is 0. Effective number of trials is 2001.\n",
      "Generated 70226 expressions of length 11.\n",
      "Selected total 2001 expressions for prompts and context. Effective number of shots is 0. Effective number of trials is 2001.\n"
     ]
    }
   ],
   "source": [
    "dataset = task.evaluate_model(2001)"
   ]
  },
  {
   "cell_type": "code",
   "execution_count": 16,
   "metadata": {},
   "outputs": [
    {
     "data": {
      "text/plain": [
       "2001"
      ]
     },
     "execution_count": 16,
     "metadata": {},
     "output_type": "execute_result"
    }
   ],
   "source": [
    "len(dataset[0])"
   ]
  },
  {
   "cell_type": "code",
   "execution_count": 17,
   "metadata": {},
   "outputs": [],
   "source": [
    "file = open(\"boolean_expressions.txt\", \"w\")\n",
    "for i in range(len(dataset[0])):\n",
    "    file.write(dataset[0][i] + \"-\" + str(dataset[1][i]) + \"\\n\")"
   ]
  },
  {
   "cell_type": "code",
   "execution_count": 2,
   "metadata": {},
   "outputs": [],
   "source": [
    "cot_template = \"\"\"\n",
    "<|user|>\n",
    "False or True or not ( True and not True ) is<|end|>  \n",
    "\n",
    "<|assistant|>\n",
    "Solving one term at a time:\n",
    "( True and not True ) is False\n",
    "not ( True and not True ) is True\n",
    "False or True or not ( True and not True ) is True\n",
    "The answer is True.\n",
    "\n",
    "<|user|>\n",
    "{question_text}<|end|>  \n",
    "\n",
    "<|assistant|>\n",
    "\"\"\""
   ]
  },
  {
   "cell_type": "code",
   "execution_count": 18,
   "metadata": {},
   "outputs": [],
   "source": [
    "dataset = [[], []]\n",
    "with open(\"boolean_expressions.txt\", \"r\") as file:\n",
    "    for line in file:\n",
    "        line_ = line.split(\"\\n\")[0]\n",
    "        question, answer = line_.split(\"-\")\n",
    "        dataset[0].append(question)\n",
    "        dataset[1].append(answer == \"True\")"
   ]
  },
  {
   "cell_type": "code",
   "execution_count": 20,
   "metadata": {},
   "outputs": [],
   "source": [
    "dataset[0] = dataset[0][1:]\n",
    "dataset[1] = dataset[1][1:]"
   ]
  },
  {
   "cell_type": "code",
   "execution_count": 78,
   "metadata": {},
   "outputs": [
    {
     "name": "stderr",
     "output_type": "stream",
     "text": [
      "/home/ecabrera/conformal_prediction/venv/lib/python3.10/site-packages/transformers/generation/configuration_utils.py:492: UserWarning: `do_sample` is set to `False`. However, `temperature` is set to `0.0` -- this flag is only used in sample-based generation modes. You should set `do_sample=True` or unset `temperature`.\n",
      "  warnings.warn(\n"
     ]
    }
   ],
   "source": [
    "inp_ = tokenizer.encode(cot_template.format(question=dataset[0][0]), return_tensors=\"pt\").to(device)\n",
    "model_return = model.generate(inp_, max_length=100, temperature=0.0)"
   ]
  },
  {
   "cell_type": "code",
   "execution_count": null,
   "metadata": {},
   "outputs": [],
   "source": []
  },
  {
   "cell_type": "code",
   "execution_count": 79,
   "metadata": {},
   "outputs": [],
   "source": [
    "model_return = tokenizer.decode(*model_return)\n",
    "inpt = prompt_template_boolean.format(question_text=model_return)"
   ]
  },
  {
   "cell_type": "code",
   "execution_count": 80,
   "metadata": {},
   "outputs": [
    {
     "name": "stdout",
     "output_type": "stream",
     "text": [
      "\n",
      "<|user|>\n",
      "<s> \n",
      "False or True or not ( True and not True ) is \n",
      "\n",
      "Solving one term at a time:\n",
      "( True and not True ) is False\n",
      "not ( True and not True ) is True\n",
      "False or True or not ( True and not True ) is True\n",
      "\n",
      "False or ( True or True or True ) or True is \n",
      "\n",
      "Solving one term at a time:\n",
      "True or True or True is True\n",
      "False or True or True is True\n",
      "Options:\n",
      "A. true\n",
      "B. false\n",
      "\n",
      "Return the letter of the correct answer.\n",
      "<|assistant|>\n",
      "\n"
     ]
    }
   ],
   "source": [
    "print(inpt)"
   ]
  },
  {
   "cell_type": "code",
   "execution_count": 6,
   "metadata": {},
   "outputs": [],
   "source": [
    "device = \"cuda:1\""
   ]
  },
  {
   "cell_type": "code",
   "execution_count": 7,
   "metadata": {},
   "outputs": [
    {
     "name": "stderr",
     "output_type": "stream",
     "text": [
      "/home/ecabrera/conformal_prediction/venv/lib/python3.10/site-packages/tqdm/auto.py:21: TqdmWarning: IProgress not found. Please update jupyter and ipywidgets. See https://ipywidgets.readthedocs.io/en/stable/user_install.html\n",
      "  from .autonotebook import tqdm as notebook_tqdm\n",
      "/home/ecabrera/conformal_prediction/venv/lib/python3.10/site-packages/huggingface_hub/file_download.py:1132: FutureWarning: `resume_download` is deprecated and will be removed in version 1.0.0. Downloads always resume when possible. If you want to force a new download, use `force_download=True`.\n",
      "  warnings.warn(\n",
      "Loading checkpoint shards: 100%|██████████| 2/2 [00:02<00:00,  1.34s/it]\n",
      "Special tokens have been added in the vocabulary, make sure the associated word embeddings are fine-tuned or trained.\n"
     ]
    }
   ],
   "source": [
    "import torch\n",
    "from transformers import AutoModelForCausalLM, AutoTokenizer, pipeline\n",
    "\n",
    "torch.random.manual_seed(0)\n",
    "\n",
    "model = AutoModelForCausalLM.from_pretrained(\n",
    "    \"microsoft/Phi-3-mini-128k-instruct\", \n",
    "    device_map=device, \n",
    "    torch_dtype=\"auto\", \n",
    "    trust_remote_code=True, \n",
    ")\n",
    "tokenizer = AutoTokenizer.from_pretrained(\"microsoft/Phi-3-mini-128k-instruct\")"
   ]
  },
  {
   "cell_type": "code",
   "execution_count": 8,
   "metadata": {},
   "outputs": [],
   "source": [
    "from tqdm import tqdm\n",
    "import pandas as pd\n",
    "import numpy as np"
   ]
  },
  {
   "cell_type": "code",
   "execution_count": 9,
   "metadata": {},
   "outputs": [],
   "source": [
    "import json"
   ]
  },
  {
   "cell_type": "code",
   "execution_count": 9,
   "metadata": {},
   "outputs": [],
   "source": [
    "def get_dataset(calibrating = False):    \n",
    "    files = [\"OpenBookQA-V1-Sep2018/Data/Main/train.jsonl\", \"OpenBookQA-V1-Sep2018/Data/Main/dev.jsonl\"]\n",
    "    if calibrating:\n",
    "        files = [\"OpenBookQA-V1-Sep2018/Data/Main/test.jsonl\"]\n",
    "\n",
    "    lines = []\n",
    "    for file in files:\n",
    "        with open(file, \"r\") as f:\n",
    "            lines.extend(f.readlines())\n",
    "            f.close()\n",
    "            \n",
    "    lines = [json.loads(line) for line in lines]\n",
    "    return lines"
   ]
  },
  {
   "cell_type": "code",
   "execution_count": 10,
   "metadata": {},
   "outputs": [],
   "source": [
    "dataset = get_dataset()\n",
    "dataset_calibrating = get_dataset(calibrating=True)"
   ]
  },
  {
   "cell_type": "code",
   "execution_count": 35,
   "metadata": {},
   "outputs": [],
   "source": [
    "prompt_template = \"\"\"\n",
    "<|user|>\n",
    "{question_text}\n",
    "Options:\n",
    "A. {text_a}\n",
    "B. {text_b}\n",
    "C. {text_c}\n",
    "D. {text_d}\n",
    "\n",
    "Return the letter of the correct answer.<|end|> \n",
    "<|assistant|>\n",
    "\"\"\"\n",
    "\n",
    "prompt_template_boolean = \"\"\"\n",
    "<|user|>\n",
    "{question_text}\n",
    "Options:\n",
    "A. true\n",
    "B. false\n",
    "\n",
    "Return the letter of the correct answer.<|end|> \n",
    "<|assistant|>\n",
    "\"\"\""
   ]
  },
  {
   "cell_type": "code",
   "execution_count": 10,
   "metadata": {},
   "outputs": [],
   "source": [
    "token_map = {letter: tokenizer.encode(letter)[-1] for letter in \"AB\"}\n",
    "letter_to_index_map = {letter: index for index, letter in enumerate([True, False])}"
   ]
  },
  {
   "cell_type": "code",
   "execution_count": 194,
   "metadata": {},
   "outputs": [
    {
     "data": {
      "text/plain": [
       "{True: 0, False: 1}"
      ]
     },
     "execution_count": 194,
     "metadata": {},
     "output_type": "execute_result"
    }
   ],
   "source": [
    "letter_to_index_map"
   ]
  },
  {
   "cell_type": "code",
   "execution_count": 11,
   "metadata": {},
   "outputs": [],
   "source": [
    "from torch.nn.functional import softmax"
   ]
  },
  {
   "cell_type": "code",
   "execution_count": 23,
   "metadata": {},
   "outputs": [
    {
     "name": "stderr",
     "output_type": "stream",
     "text": [
      "  0%|          | 0/400 [00:00<?, ?it/s]You are not running the flash-attention implementation, expect numerical differences.\n",
      "100%|██████████| 400/400 [00:14<00:00, 28.45it/s]\n"
     ]
    }
   ],
   "source": [
    "results = []\n",
    "for i in tqdm(range(400)):\n",
    "    question = dataset[0][i]\n",
    "    answer = dataset[1][i]\n",
    "    answer_index  = letter_to_index_map[answer]\n",
    "    prompt = prompt_template_boolean.format(question_text=question)\n",
    "    \n",
    "    prompt_token = tokenizer.encode(prompt, return_tensors=\"pt\").to(device)\n",
    "    model_return = model(prompt_token, return_dict=True)\n",
    "    logits = model_return.logits[0, -1, :]\n",
    "    #probs = softmax(logits, dim=0)\n",
    "    #sum_probs = probs.sum()\n",
    "    logits_letter = torch.tensor([logits[token_map[letter]].item() for letter in \"AB\"])\n",
    "    results.append(logits_letter.argmax().item() == answer_index)\n",
    "    \n",
    "    "
   ]
  },
  {
   "cell_type": "code",
   "execution_count": 36,
   "metadata": {},
   "outputs": [
    {
     "name": "stderr",
     "output_type": "stream",
     "text": [
      "100%|██████████| 400/400 [20:47<00:00,  3.12s/it]\n"
     ]
    }
   ],
   "source": [
    "results = []\n",
    "for i in tqdm(range(400)):\n",
    "    question = dataset[0][i]\n",
    "    answer = dataset[1][i]\n",
    "    answer_index  = letter_to_index_map[answer]\n",
    "    cot_prompt = cot_template.format(question_text=question)\n",
    "    cot_prompt_token = tokenizer.encode(cot_prompt, return_tensors=\"pt\").to(device)\n",
    "    model_return = model.generate(cot_prompt_token, max_length=300, temperature=0.0)\n",
    "    model_return = tokenizer.decode(*model_return)\n",
    "    \n",
    "    prompt = prompt_template_boolean.format(question_text=model_return)\n",
    "    \n",
    "    prompt_token = tokenizer.encode(prompt, return_tensors=\"pt\").to(device)\n",
    "    model_return = model(prompt_token, return_dict=True)\n",
    "    logits = model_return.logits[0, -1, :]\n",
    "    #probs = softmax(logits, dim=0)\n",
    "    #sum_probs = probs.sum()\n",
    "    logits_letter = torch.tensor([logits[token_map[letter]].item() for letter in \"AB\"])\n",
    "    results.append(logits_letter.argmax().item() == answer_index)"
   ]
  },
  {
   "cell_type": "code",
   "execution_count": 37,
   "metadata": {},
   "outputs": [
    {
     "data": {
      "text/plain": [
       "0.915"
      ]
     },
     "execution_count": 37,
     "metadata": {},
     "output_type": "execute_result"
    }
   ],
   "source": [
    "sum(results) / 400"
   ]
  },
  {
   "cell_type": "code",
   "execution_count": 29,
   "metadata": {},
   "outputs": [
    {
     "name": "stderr",
     "output_type": "stream",
     "text": [
      "100%|██████████| 500/500 [00:18<00:00, 27.19it/s]\n"
     ]
    }
   ],
   "source": [
    "results = []\n",
    "for i in tqdm(range(500)):\n",
    "    question = dataset[0][i]\n",
    "    answer = dataset[1][i]\n",
    "    answer_index  = letter_to_index_map[answer]\n",
    "    prompt = prompt_template_boolean.format(question_text=question)\n",
    "    \n",
    "    prompt_token = tokenizer.encode(prompt, return_tensors=\"pt\").to(device)\n",
    "    model_return = model(prompt_token, return_dict=True)\n",
    "    logits = model_return.logits[0, -1, :]\n",
    "    probs = softmax(logits, dim=0)\n",
    "    probs = torch.tensor([probs[token_map[letter]].item() for letter in \"AB\"])\n",
    "    probs = probs / probs.sum()\n",
    "    results.append(1 - probs[answer_index].item())"
   ]
  },
  {
   "cell_type": "code",
   "execution_count": 228,
   "metadata": {},
   "outputs": [
    {
     "data": {
      "text/plain": [
       "tensor([0.9933, 0.0067])"
      ]
     },
     "execution_count": 228,
     "metadata": {},
     "output_type": "execute_result"
    }
   ],
   "source": [
    "probs"
   ]
  },
  {
   "cell_type": "code",
   "execution_count": 30,
   "metadata": {},
   "outputs": [
    {
     "data": {
      "text/html": [
       "<div>\n",
       "<style scoped>\n",
       "    .dataframe tbody tr th:only-of-type {\n",
       "        vertical-align: middle;\n",
       "    }\n",
       "\n",
       "    .dataframe tbody tr th {\n",
       "        vertical-align: top;\n",
       "    }\n",
       "\n",
       "    .dataframe thead th {\n",
       "        text-align: right;\n",
       "    }\n",
       "</style>\n",
       "<table border=\"1\" class=\"dataframe\">\n",
       "  <thead>\n",
       "    <tr style=\"text-align: right;\">\n",
       "      <th></th>\n",
       "      <th>calibrating_scores</th>\n",
       "    </tr>\n",
       "  </thead>\n",
       "  <tbody>\n",
       "    <tr>\n",
       "      <th>0</th>\n",
       "      <td>0.012432</td>\n",
       "    </tr>\n",
       "    <tr>\n",
       "      <th>1</th>\n",
       "      <td>0.407333</td>\n",
       "    </tr>\n",
       "    <tr>\n",
       "      <th>2</th>\n",
       "      <td>0.437824</td>\n",
       "    </tr>\n",
       "    <tr>\n",
       "      <th>3</th>\n",
       "      <td>0.025957</td>\n",
       "    </tr>\n",
       "    <tr>\n",
       "      <th>4</th>\n",
       "      <td>0.268941</td>\n",
       "    </tr>\n",
       "    <tr>\n",
       "      <th>...</th>\n",
       "      <td>...</td>\n",
       "    </tr>\n",
       "    <tr>\n",
       "      <th>495</th>\n",
       "      <td>0.132964</td>\n",
       "    </tr>\n",
       "    <tr>\n",
       "      <th>496</th>\n",
       "      <td>0.997199</td>\n",
       "    </tr>\n",
       "    <tr>\n",
       "      <th>497</th>\n",
       "      <td>0.164516</td>\n",
       "    </tr>\n",
       "    <tr>\n",
       "      <th>498</th>\n",
       "      <td>0.000231</td>\n",
       "    </tr>\n",
       "    <tr>\n",
       "      <th>499</th>\n",
       "      <td>0.000911</td>\n",
       "    </tr>\n",
       "  </tbody>\n",
       "</table>\n",
       "<p>500 rows × 1 columns</p>\n",
       "</div>"
      ],
      "text/plain": [
       "     calibrating_scores\n",
       "0              0.012432\n",
       "1              0.407333\n",
       "2              0.437824\n",
       "3              0.025957\n",
       "4              0.268941\n",
       "..                  ...\n",
       "495            0.132964\n",
       "496            0.997199\n",
       "497            0.164516\n",
       "498            0.000231\n",
       "499            0.000911\n",
       "\n",
       "[500 rows x 1 columns]"
      ]
     },
     "execution_count": 30,
     "metadata": {},
     "output_type": "execute_result"
    }
   ],
   "source": [
    "df = pd.DataFrame(results, columns=[\"calibrating_scores\"])\n",
    "df"
   ]
  },
  {
   "cell_type": "code",
   "execution_count": 31,
   "metadata": {},
   "outputs": [
    {
     "data": {
      "text/plain": [
       "array([[<Axes: title={'center': 'calibrating_scores'}>]], dtype=object)"
      ]
     },
     "execution_count": 31,
     "metadata": {},
     "output_type": "execute_result"
    },
    {
     "data": {
      "image/png": "[encoded data removed]",
      "text/plain": [
       "<Figure size 640x480 with 1 Axes>"
      ]
     },
     "metadata": {},
     "output_type": "display_data"
    }
   ],
   "source": [
    "df.hist(bins=20)"
   ]
  },
  {
   "cell_type": "code",
   "execution_count": 32,
   "metadata": {},
   "outputs": [],
   "source": [
    "n = df.shape[0]\n",
    "alpha = 0.1\n",
    "q_level = np.ceil((n+1)*(1-alpha))/n\n",
    "qhat = np.quantile(df[\"calibrating_scores\"].to_numpy(), q_level, method='higher')"
   ]
  },
  {
   "cell_type": "code",
   "execution_count": 33,
   "metadata": {},
   "outputs": [
    {
     "data": {
      "text/plain": [
       "0.9465966671705246"
      ]
     },
     "execution_count": 33,
     "metadata": {},
     "output_type": "execute_result"
    }
   ],
   "source": [
    "qhat"
   ]
  },
  {
   "cell_type": "code",
   "execution_count": 214,
   "metadata": {},
   "outputs": [
    {
     "data": {
      "text/plain": [
       "0.66"
      ]
     },
     "execution_count": 214,
     "metadata": {},
     "output_type": "execute_result"
    }
   ],
   "source": [
    "sum(results) / 400"
   ]
  },
  {
   "cell_type": "code",
   "execution_count": 243,
   "metadata": {},
   "outputs": [],
   "source": [
    "letter_to_index_map = {letter: index for index, letter in enumerate(\"ABCD\")}\n",
    "token_map = {letter: tokenizer.encode(letter)[-1] for letter in \"ABCD\"}"
   ]
  },
  {
   "cell_type": "code",
   "execution_count": 1,
   "metadata": {},
   "outputs": [
    {
     "ename": "NameError",
     "evalue": "name 'tqdm' is not defined",
     "output_type": "error",
     "traceback": [
      "\u001b[0;31m---------------------------------------------------------------------------\u001b[0m",
      "\u001b[0;31mNameError\u001b[0m                                 Traceback (most recent call last)",
      "Cell \u001b[0;32mIn[1], line 2\u001b[0m\n\u001b[1;32m      1\u001b[0m results \u001b[38;5;241m=\u001b[39m []\n\u001b[0;32m----> 2\u001b[0m \u001b[38;5;28;01mfor\u001b[39;00m item \u001b[38;5;129;01min\u001b[39;00m \u001b[43mtqdm\u001b[49m(dataset_calibrating):\n\u001b[1;32m      3\u001b[0m     question_id \u001b[38;5;241m=\u001b[39m item[\u001b[38;5;124m\"\u001b[39m\u001b[38;5;124mid\u001b[39m\u001b[38;5;124m\"\u001b[39m]\n\u001b[1;32m      4\u001b[0m     question \u001b[38;5;241m=\u001b[39m item[\u001b[38;5;124m\"\u001b[39m\u001b[38;5;124mquestion\u001b[39m\u001b[38;5;124m\"\u001b[39m][\u001b[38;5;124m\"\u001b[39m\u001b[38;5;124mstem\u001b[39m\u001b[38;5;124m\"\u001b[39m]\n",
      "\u001b[0;31mNameError\u001b[0m: name 'tqdm' is not defined"
     ]
    }
   ],
   "source": [
    "results = []\n",
    "for item in tqdm(dataset_calibrating):\n",
    "    question_id = item[\"id\"]\n",
    "    question = item[\"question\"][\"stem\"]\n",
    "    choices = item[\"question\"][\"choices\"]\n",
    "    answerKey = item[\"answerKey\"]\n",
    "    answerKey_token  = token_map[answerKey]\n",
    "    prompt = prompt_template.format(question_text=question, text_a=choices[0][\"text\"], text_b=choices[1][\"text\"], text_c=choices[2][\"text\"], text_d=choices[3][\"text\"])\n",
    "    \n",
    "    prompt_token = tokenizer.encode(prompt, return_tensors=\"pt\").to(device)\n",
    "    model_return = model(prompt_token, return_dict=True)\n",
    "    logits = model_return.logits[0, -1, :]\n",
    "    probs = softmax(logits, dim=0)\n",
    "    sum_probs = probs.sum()\n",
    "    probs_letter = [probs[token_map[letter]].item() / sum_probs.item() for letter in \"ABCD\"]\n",
    "    answerKey_index = letter_to_index_map[answerKey]\n",
    "    results.append(1-probs_letter[answerKey_index])"
   ]
  },
  {
   "cell_type": "code",
   "execution_count": 68,
   "metadata": {},
   "outputs": [],
   "source": [
    "df = pd.DataFrame(results, columns=[\"calibrating_scores\"])"
   ]
  },
  {
   "cell_type": "code",
   "execution_count": 73,
   "metadata": {},
   "outputs": [
    {
     "data": {
      "text/plain": [
       "array([[<Axes: title={'center': 'calibrating_scores'}>]], dtype=object)"
      ]
     },
     "execution_count": 73,
     "metadata": {},
     "output_type": "execute_result"
    },
    {
     "data": {
      "image/png": "[encoded data removed]",
      "text/plain": [
       "<Figure size 640x480 with 1 Axes>"
      ]
     },
     "metadata": {},
     "output_type": "display_data"
    }
   ],
   "source": [
    "df.hist(bins=20)"
   ]
  },
  {
   "cell_type": "code",
   "execution_count": 102,
   "metadata": {},
   "outputs": [],
   "source": [
    "n = df.shape[0]\n",
    "alpha = 0.5\n",
    "q_level = np.ceil((n+1)*(1-alpha))/n\n",
    "qhat = np.quantile(df[\"calibrating_scores\"].to_numpy(), q_level, method='higher')"
   ]
  },
  {
   "cell_type": "code",
   "execution_count": 103,
   "metadata": {},
   "outputs": [
    {
     "data": {
      "text/plain": [
       "0.9999891519572373"
      ]
     },
     "execution_count": 103,
     "metadata": {},
     "output_type": "execute_result"
    }
   ],
   "source": [
    "qhat"
   ]
  },
  {
   "cell_type": "code",
   "execution_count": 104,
   "metadata": {},
   "outputs": [
    {
     "data": {
      "text/plain": [
       "0.502"
      ]
     },
     "execution_count": 104,
     "metadata": {},
     "output_type": "execute_result"
    }
   ],
   "source": [
    "model."
   ]
  },
  {
   "cell_type": "code",
   "execution_count": 55,
   "metadata": {},
   "outputs": [],
   "source": [
    "df[\"Correct\"] = df[\"True\"] == df[\"Predicted\"]"
   ]
  },
  {
   "cell_type": "code",
   "execution_count": 60,
   "metadata": {},
   "outputs": [
    {
     "data": {
      "text/html": [
       "<div>\n",
       "<style scoped>\n",
       "    .dataframe tbody tr th:only-of-type {\n",
       "        vertical-align: middle;\n",
       "    }\n",
       "\n",
       "    .dataframe tbody tr th {\n",
       "        vertical-align: top;\n",
       "    }\n",
       "\n",
       "    .dataframe thead th {\n",
       "        text-align: right;\n",
       "    }\n",
       "</style>\n",
       "<table border=\"1\" class=\"dataframe\">\n",
       "  <thead>\n",
       "    <tr style=\"text-align: right;\">\n",
       "      <th></th>\n",
       "      <th>True</th>\n",
       "      <th>Predicted</th>\n",
       "      <th>Correct</th>\n",
       "    </tr>\n",
       "  </thead>\n",
       "  <tbody>\n",
       "    <tr>\n",
       "      <th>12</th>\n",
       "      <td>1</td>\n",
       "      <td>2</td>\n",
       "      <td>False</td>\n",
       "    </tr>\n",
       "    <tr>\n",
       "      <th>24</th>\n",
       "      <td>3</td>\n",
       "      <td>1</td>\n",
       "      <td>False</td>\n",
       "    </tr>\n",
       "    <tr>\n",
       "      <th>32</th>\n",
       "      <td>2</td>\n",
       "      <td>0</td>\n",
       "      <td>False</td>\n",
       "    </tr>\n",
       "    <tr>\n",
       "      <th>33</th>\n",
       "      <td>2</td>\n",
       "      <td>1</td>\n",
       "      <td>False</td>\n",
       "    </tr>\n",
       "    <tr>\n",
       "      <th>55</th>\n",
       "      <td>0</td>\n",
       "      <td>1</td>\n",
       "      <td>False</td>\n",
       "    </tr>\n",
       "    <tr>\n",
       "      <th>...</th>\n",
       "      <td>...</td>\n",
       "      <td>...</td>\n",
       "      <td>...</td>\n",
       "    </tr>\n",
       "    <tr>\n",
       "      <th>5923</th>\n",
       "      <td>2</td>\n",
       "      <td>1</td>\n",
       "      <td>False</td>\n",
       "    </tr>\n",
       "    <tr>\n",
       "      <th>5927</th>\n",
       "      <td>1</td>\n",
       "      <td>2</td>\n",
       "      <td>False</td>\n",
       "    </tr>\n",
       "    <tr>\n",
       "      <th>5932</th>\n",
       "      <td>3</td>\n",
       "      <td>1</td>\n",
       "      <td>False</td>\n",
       "    </tr>\n",
       "    <tr>\n",
       "      <th>5934</th>\n",
       "      <td>2</td>\n",
       "      <td>0</td>\n",
       "      <td>False</td>\n",
       "    </tr>\n",
       "    <tr>\n",
       "      <th>5942</th>\n",
       "      <td>2</td>\n",
       "      <td>0</td>\n",
       "      <td>False</td>\n",
       "    </tr>\n",
       "  </tbody>\n",
       "</table>\n",
       "<p>977 rows × 3 columns</p>\n",
       "</div>"
      ],
      "text/plain": [
       "      True  Predicted  Correct\n",
       "12       1          2    False\n",
       "24       3          1    False\n",
       "32       2          0    False\n",
       "33       2          1    False\n",
       "55       0          1    False\n",
       "...    ...        ...      ...\n",
       "5923     2          1    False\n",
       "5927     1          2    False\n",
       "5932     3          1    False\n",
       "5934     2          0    False\n",
       "5942     2          0    False\n",
       "\n",
       "[977 rows x 3 columns]"
      ]
     },
     "execution_count": 60,
     "metadata": {},
     "output_type": "execute_result"
    }
   ],
   "source": [
    "df[df[\"Correct\"] == False]"
   ]
  },
  {
   "cell_type": "code",
   "execution_count": 58,
   "metadata": {},
   "outputs": [
    {
     "data": {
      "text/plain": [
       "0.8359912707738795"
      ]
     },
     "execution_count": 58,
     "metadata": {},
     "output_type": "execute_result"
    }
   ],
   "source": [
    "df[\"Correct\"].sum() / df.shape[0]"
   ]
  },
  {
   "cell_type": "code",
   "execution_count": 32,
   "metadata": {},
   "outputs": [
    {
     "data": {
      "text/plain": [
       "{'id': '7-999',\n",
       " 'question': {'stem': 'Oak tree seeds are planted and a sidewalk is paved right next to that spot, until eventually, the tree is tall and the roots must extend past the sidewalk, which means',\n",
       "  'choices': [{'text': 'roots may be split', 'label': 'A'},\n",
       "   {'text': 'roots may begin to die', 'label': 'B'},\n",
       "   {'text': 'parts may break the concrete', 'label': 'C'},\n",
       "   {'text': 'roots may fall apart', 'label': 'D'}]},\n",
       " 'answerKey': 'C'}"
      ]
     },
     "execution_count": 32,
     "metadata": {},
     "output_type": "execute_result"
    }
   ],
   "source": [
    "item"
   ]
  },
  {
   "cell_type": "code",
   "execution_count": 129,
   "metadata": {},
   "outputs": [],
   "source": [
    "prompt = \"\"\"\n",
    "<|user|>\n",
    "{question_text}\n",
    "Options:\n",
    "A. {text_a}\n",
    "B. {text_b}\n",
    "C. {text_c}\n",
    "D. {text_d}\n",
    "\n",
    "Return the letter of the correct answer.\n",
    "<|assistant|>\n",
    "\"\"\""
   ]
  },
  {
   "cell_type": "code",
   "execution_count": 133,
   "metadata": {},
   "outputs": [],
   "source": [
    "prompt_example = prompt.format(question_text=line[\"question\"][\"stem\"], text_a=line[\"question\"][\"choices\"][0][\"text\"], text_b=line[\"question\"][\"choices\"][1][\"text\"], text_c=line[\"question\"][\"choices\"][2][\"text\"], text_d=line[\"question\"][\"choices\"][3][\"text\"])"
   ]
  },
  {
   "cell_type": "code",
   "execution_count": 127,
   "metadata": {},
   "outputs": [
    {
     "data": {
      "text/plain": [
       "{'id': '7-980',\n",
       " 'question': {'stem': 'The sun is responsible for',\n",
       "  'choices': [{'text': 'puppies learning new tricks', 'label': 'A'},\n",
       "   {'text': 'children growing up and getting old', 'label': 'B'},\n",
       "   {'text': 'flowers wilting in a vase', 'label': 'C'},\n",
       "   {'text': 'plants sprouting, blooming and wilting', 'label': 'D'}]},\n",
       " 'answerKey': 'D'}"
      ]
     },
     "execution_count": 127,
     "metadata": {},
     "output_type": "execute_result"
    }
   ],
   "source": [
    "line = lines[0]\n",
    "json.loads(line)"
   ]
  },
  {
   "cell_type": "code",
   "execution_count": 10,
   "metadata": {},
   "outputs": [
    {
     "name": "stderr",
     "output_type": "stream",
     "text": [
      "/home/ecabrera/conformal_prediction/venv/lib/python3.10/site-packages/huggingface_hub/file_download.py:1132: FutureWarning: `resume_download` is deprecated and will be removed in version 1.0.0. Downloads always resume when possible. If you want to force a new download, use `force_download=True`.\n",
      "  warnings.warn(\n",
      "Loading checkpoint shards: 100%|██████████| 2/2 [00:01<00:00,  1.11it/s]\n",
      "Special tokens have been added in the vocabulary, make sure the associated word embeddings are fine-tuned or trained.\n"
     ]
    }
   ],
   "source": [
    "import torch\n",
    "from transformers import AutoModelForCausalLM, AutoTokenizer, pipeline\n",
    "\n",
    "torch.random.manual_seed(0)\n",
    "\n",
    "model = AutoModelForCausalLM.from_pretrained(\n",
    "    \"microsoft/Phi-3-mini-128k-instruct\", \n",
    "    device_map=\"cuda:1\", \n",
    "    torch_dtype=\"auto\", \n",
    "    trust_remote_code=True, \n",
    ")\n",
    "tokenizer = AutoTokenizer.from_pretrained(\"microsoft/Phi-3-mini-128k-instruct\")"
   ]
  },
  {
   "cell_type": "code",
   "execution_count": 82,
   "metadata": {},
   "outputs": [],
   "source": [
    "pipe = pipeline(\n",
    "    \"text-generation\",\n",
    "    model=model,\n",
    "    tokenizer=tokenizer,\n",
    ")\n",
    "\n",
    "generation_args = {\n",
    "    \"max_new_tokens\": 500,\n",
    "    \"return_full_text\": False,\n",
    "    \"temperature\": 0.0,\n",
    "}"
   ]
  },
  {
   "cell_type": "code",
   "execution_count": 7,
   "metadata": {},
   "outputs": [],
   "source": [
    "messages = [\n",
    "    {\"role\": \"user\", \"content\": \"Can you provide ways to eat combinations of bananas and dragonfruits?\"},\n",
    "    {\"role\": \"assistant\", \"content\": \"Sure! Here are some ways to eat bananas and dragonfruits together: 1. Banana and dragonfruit smoothie: Blend bananas and dragonfruits together with some milk and honey. 2. Banana and dragonfruit salad: Mix sliced bananas and dragonfruits together with some lemon juice and honey.\"},\n",
    "    {\"role\": \"user\", \"content\": \"What about solving an 2x + 3 = 7 equation?\"},\n",
    "]"
   ]
  },
  {
   "cell_type": "code",
   "execution_count": 113,
   "metadata": {},
   "outputs": [],
   "source": [
    "prompt = \"\"\"\n",
    "<|user|>\n",
    "Who was the firt president of USA?\n",
    "Options:\n",
    "A. Abraham Lincoln\n",
    "B. George Washington\n",
    "C. Thomas Jefferson\n",
    "D. John Adams\n",
    "\n",
    "Return the letter of the correct answer.\n",
    "<|assistant|>\n",
    "\"\"\""
   ]
  },
  {
   "cell_type": "code",
   "execution_count": 114,
   "metadata": {},
   "outputs": [],
   "source": [
    "inp = tokenizer.encode(prompt, return_tensors=\"pt\").to(device=\"cuda:1\")"
   ]
  },
  {
   "cell_type": "code",
   "execution_count": 108,
   "metadata": {},
   "outputs": [],
   "source": [
    "token_a = tokenizer.encode(\"A\", return_tensors=\"pt\").to(device=\"cuda:1\")\n",
    "token_b = tokenizer.encode(\"B\", return_tensors=\"pt\").to(device=\"cuda:1\")\n",
    "token_c = tokenizer.encode(\"C\", return_tensors=\"pt\").to(device=\"cuda:1\")\n",
    "token_d = tokenizer.encode(\"D\", return_tensors=\"pt\").to(device=\"cuda:1\")\n",
    "token_space = tokenizer.encode(\" \", return_tensors=\"pt\").to(device=\"cuda:1\")"
   ]
  },
  {
   "cell_type": "code",
   "execution_count": 109,
   "metadata": {},
   "outputs": [
    {
     "data": {
      "text/plain": [
       "(tensor([[  1, 319]], device='cuda:1'),\n",
       " tensor([[  1, 350]], device='cuda:1'),\n",
       " tensor([[  1, 315]], device='cuda:1'),\n",
       " tensor([[  1, 360]], device='cuda:1'),\n",
       " tensor([[  1, 259]], device='cuda:1'))"
      ]
     },
     "execution_count": 109,
     "metadata": {},
     "output_type": "execute_result"
    }
   ],
   "source": [
    "token_a, token_b, token_c, token_d, token_space"
   ]
  },
  {
   "cell_type": "code",
   "execution_count": 116,
   "metadata": {},
   "outputs": [],
   "source": [
    "model_return = model(inp, return_dict=True)"
   ]
  },
  {
   "cell_type": "code",
   "execution_count": 111,
   "metadata": {},
   "outputs": [
    {
     "data": {
      "text/plain": [
       "torch.Size([1, 48])"
      ]
     },
     "execution_count": 111,
     "metadata": {},
     "output_type": "execute_result"
    }
   ],
   "source": [
    "inp.shape"
   ]
  },
  {
   "cell_type": "code",
   "execution_count": 71,
   "metadata": {},
   "outputs": [
    {
     "data": {
      "text/plain": [
       "tensor([[ 4.7812,  0.3711,  5.1875, 18.6250, 20.2500, 21.6250, 20.7500, 15.0625,\n",
       "         11.8750, 18.2500,  4.7812,  8.5000,  8.3125, 13.8125, -6.7812, 14.9375,\n",
       "         15.7500,  7.9688,  6.8750, 17.6250,  5.9375,  9.9375, -2.7812,  6.6562,\n",
       "         16.8750,  4.9688,  9.9375, -4.0000,  2.7656, 17.2500,  4.5000,  7.1250,\n",
       "         -4.3750,  5.5000, 17.6250,  3.7500,  4.4062,  7.3125, -3.6250,  0.4453,\n",
       "         18.6250, 10.4375, 15.8750, 12.0000,  9.4375, 10.5000, 10.5625, 15.0000,\n",
       "         -3.7500, 40.5000, 16.1250, 24.3750, 30.6250, 23.2500, 19.7500]],\n",
       "       device='cuda:1', grad_fn=<SelectBackward0>)"
      ]
     },
     "execution_count": 71,
     "metadata": {},
     "output_type": "execute_result"
    }
   ],
   "source": [
    "model_return.logits[:, :, 319]"
   ]
  },
  {
   "cell_type": "code",
   "execution_count": 70,
   "metadata": {},
   "outputs": [
    {
     "data": {
      "text/plain": [
       "tensor([[ 5.1562, -1.2344,  3.7500, 15.8750, 18.0000, 21.1250, 20.6250, 13.7500,\n",
       "         12.6250, 18.1250,  3.7656,  6.4062,  6.6250, 10.9375, -7.1875,  8.3125,\n",
       "          9.9375,  0.0364,  9.8750, 16.3750,  3.7500, 10.3750, 10.1250,  4.3750,\n",
       "         19.2500,  5.7188, 11.1875, -6.6875,  0.2197, 16.6250,  4.9688,  9.1875,\n",
       "         -6.6875,  5.0000, 16.2500,  7.0000,  5.0625,  7.0938, -4.0625, -0.8008,\n",
       "         19.8750,  4.7188,  9.9375, 11.4375,  7.2500,  7.0000,  6.8750, 12.5000,\n",
       "         -6.5625, 31.6250, 14.1875, 21.8750, 24.5000, 19.0000, 13.4375]],\n",
       "       device='cuda:1', grad_fn=<SelectBackward0>)"
      ]
     },
     "execution_count": 70,
     "metadata": {},
     "output_type": "execute_result"
    }
   ],
   "source": [
    "model_return.logits[:, :, 350]"
   ]
  },
  {
   "cell_type": "code",
   "execution_count": 117,
   "metadata": {},
   "outputs": [
    {
     "data": {
      "text/plain": [
       "(tensor([17.6250], device='cuda:1', grad_fn=<SelectBackward0>),\n",
       " tensor([38.2500], device='cuda:1', grad_fn=<SelectBackward0>),\n",
       " tensor([19.2500], device='cuda:1', grad_fn=<SelectBackward0>),\n",
       " tensor([21.], device='cuda:1', grad_fn=<SelectBackward0>),\n",
       " tensor([18.1250], device='cuda:1', grad_fn=<SelectBackward0>))"
      ]
     },
     "execution_count": 117,
     "metadata": {},
     "output_type": "execute_result"
    }
   ],
   "source": [
    "model_return.logits[:, -1, 319], model_return.logits[:, -1, 350], model_return.logits[:, -1, 315], model_return.logits[:, -1, 360], model_return.logits[:, -1, 259]"
   ]
  },
  {
   "cell_type": "code",
   "execution_count": 90,
   "metadata": {},
   "outputs": [],
   "source": [
    "output = pipe(prompt, **generation_args)"
   ]
  },
  {
   "cell_type": "code",
   "execution_count": 91,
   "metadata": {},
   "outputs": [
    {
     "data": {
      "text/plain": [
       "[{'generated_text': ' A'}]"
      ]
     },
     "execution_count": 91,
     "metadata": {},
     "output_type": "execute_result"
    }
   ],
   "source": [
    "output"
   ]
  }
 ],
 "metadata": {
  "kernelspec": {
   "display_name": "venv",
   "language": "python",
   "name": "python3"
  },
  "language_info": {
   "codemirror_mode": {
    "name": "ipython",
    "version": 3
   },
   "file_extension": ".py",
   "mimetype": "text/x-python",
   "name": "python",
   "nbconvert_exporter": "python",
   "pygments_lexer": "ipython3",
   "version": "3.10.12"
  }
 },
 "nbformat": 4,
 "nbformat_minor": 2
}
